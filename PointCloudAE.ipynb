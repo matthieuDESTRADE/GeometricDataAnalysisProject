{
 "cells": [
  {
   "cell_type": "code",
   "execution_count": null,
   "metadata": {},
   "outputs": [],
   "source": [
    "import numpy as np\n",
    "import time\n",
    "import utils\n",
    "import matplotlib.pyplot as plt\n",
    "%matplotlib inline\n",
    "import torch_geometric\n",
    "import torch.optim as optim\n",
    "import tqdm\n",
    "import model\n",
    "from DeltaNetAE import DeltaNetAE"
   ]
  },
  {
   "cell_type": "code",
   "execution_count": 4,
   "metadata": {},
   "outputs": [],
   "source": [
    "batch_size = 32\n",
    "output_folder = \"output/\" # folder path to save the results\n",
    "save_results = True # save the results to output_folder\n",
    "use_GPU = True # use GPU, False to use CPU\n",
    "latent_size = 128 # bottleneck size of the Autoencoder model"
   ]
  },
  {
   "cell_type": "code",
   "execution_count": 5,
   "metadata": {},
   "outputs": [
    {
     "name": "stdout",
     "output_type": "stream",
     "text": [
      "(3746, 1024, 3)\n",
      "1024\n"
     ]
    }
   ],
   "source": [
    "from Dataloaders import GetDataLoaders\n",
    "\n",
    "pc_array = np.load(\"data/chair_set.npy\")\n",
    "print(pc_array.shape)\n",
    "\n",
    "# load dataset from numpy array and divide 90%-10% randomly for train and test sets\n",
    "train_loader, test_loader = GetDataLoaders(npArray=pc_array, batch_size=batch_size)\n",
    "\n",
    "# Assuming all models have the same size, get the point size from the first model\n",
    "point_size = len(train_loader.dataset[0])\n",
    "print(point_size)"
   ]
  },
  {
   "cell_type": "code",
   "execution_count": 6,
   "metadata": {},
   "outputs": [],
   "source": [
    "import glob\n",
    "import os\n",
    "import os.path as osp\n",
    "from typing import Callable, List, Optional\n",
    "\n",
    "import torch\n",
    "\n",
    "from torch_geometric.data import (\n",
    "    Data,\n",
    "    InMemoryDataset,\n",
    "    download_url,\n",
    "    extract_zip,\n",
    ")\n",
    "from torch_geometric.io import fs, read_off\n",
    "\n",
    "\n",
    "class MNLoader(InMemoryDataset):\n",
    "    r\"\"\"The ModelNet10/40 datasets from the `\"3D ShapeNets: A Deep\n",
    "    Representation for Volumetric Shapes\"\n",
    "    <https://people.csail.mit.edu/khosla/papers/cvpr2015_wu.pdf>`_ paper,\n",
    "    containing CAD models of 10 and 40 categories, respectively.\n",
    "\n",
    "    .. note::\n",
    "\n",
    "        Data objects hold mesh faces instead of edge indices.\n",
    "        To convert the mesh to a graph, use the\n",
    "        :obj:`torch_geometric.transforms.FaceToEdge` as :obj:`pre_transform`.\n",
    "        To convert the mesh to a point cloud, use the\n",
    "        :obj:`torch_geometric.transforms.SamplePoints` as :obj:`transform` to\n",
    "        sample a fixed number of points on the mesh faces according to their\n",
    "        face area.\n",
    "\n",
    "    Args:\n",
    "        root (str): Root directory where the dataset should be saved.\n",
    "        name (str, optional): The name of the dataset (:obj:`\"10\"` for\n",
    "            ModelNet10, :obj:`\"40\"` for ModelNet40). (default: :obj:`\"10\"`)\n",
    "        train (bool, optional): If :obj:`True`, loads the training dataset,\n",
    "            otherwise the test dataset. (default: :obj:`True`)\n",
    "        transform (callable, optional): A function/transform that takes in an\n",
    "            :obj:`torch_geometric.data.Data` object and returns a transformed\n",
    "            version. The data object will be transformed before every access.\n",
    "            (default: :obj:`None`)\n",
    "        pre_transform (callable, optional): A function/transform that takes in\n",
    "            an :obj:`torch_geometric.data.Data` object and returns a\n",
    "            transformed version. The data object will be transformed before\n",
    "            being saved to disk. (default: :obj:`None`)\n",
    "        pre_filter (callable, optional): A function that takes in an\n",
    "            :obj:`torch_geometric.data.Data` object and returns a boolean\n",
    "            value, indicating whether the data object should be included in the\n",
    "            final dataset. (default: :obj:`None`)\n",
    "        force_reload (bool, optional): Whether to re-process the dataset.\n",
    "            (default: :obj:`False`)\n",
    "\n",
    "    **STATS:**\n",
    "\n",
    "    .. list-table::\n",
    "        :widths: 20 10 10 10 10 10\n",
    "        :header-rows: 1\n",
    "\n",
    "        * - Name\n",
    "          - #graphs\n",
    "          - #nodes\n",
    "          - #edges\n",
    "          - #features\n",
    "          - #classes\n",
    "        * - ModelNet10\n",
    "          - 4,899\n",
    "          - ~9,508.2\n",
    "          - ~37,450.5\n",
    "          - 3\n",
    "          - 10\n",
    "        * - ModelNet40\n",
    "          - 12,311\n",
    "          - ~17,744.4\n",
    "          - ~66,060.9\n",
    "          - 3\n",
    "          - 40\n",
    "    \"\"\"\n",
    "\n",
    "    urls = {\n",
    "        '10':\n",
    "        'http://vision.princeton.edu/projects/2014/3DShapeNets/ModelNet10.zip',\n",
    "        '40': 'http://modelnet.cs.princeton.edu/ModelNet40.zip'\n",
    "    }\n",
    "\n",
    "    def __init__(\n",
    "        self,\n",
    "        root: str,\n",
    "        name: str = '10',\n",
    "        train: bool = True,\n",
    "        transform: Optional[Callable] = None,\n",
    "        pre_transform: Optional[Callable] = None,\n",
    "        pre_filter: Optional[Callable] = None,\n",
    "        force_reload: bool = False,\n",
    "    ) -> None:\n",
    "        assert name in ['10', '40']\n",
    "        self.name = name\n",
    "        super().__init__(root, transform, pre_transform, pre_filter,\n",
    "                         force_reload=force_reload)\n",
    "        path = self.processed_paths[0] if train else self.processed_paths[1]\n",
    "        self.load(path)\n",
    "\n",
    "    @property\n",
    "    def raw_file_names(self) -> List[str]:\n",
    "        return [\n",
    "            'bathtub', 'bed', 'chair', 'desk', 'dresser', 'monitor',\n",
    "            'night_stand', 'sofa', 'table', 'toilet'\n",
    "        ]\n",
    "\n",
    "    @property\n",
    "    def processed_file_names(self) -> List[str]:\n",
    "        return ['training.pt', 'test.pt']\n",
    "\n",
    "    def download(self) -> None:\n",
    "        path = download_url(self.urls[self.name], self.root)\n",
    "        extract_zip(path, self.root)\n",
    "        os.unlink(path)\n",
    "        folder = osp.join(self.root, f'ModelNet{self.name}')\n",
    "        fs.rm(self.raw_dir)\n",
    "        os.rename(folder, self.raw_dir)\n",
    "\n",
    "        # Delete osx metadata generated during compression of ModelNet10\n",
    "        metadata_folder = osp.join(self.root, '__MACOSX')\n",
    "        if osp.exists(metadata_folder):\n",
    "            fs.rm(metadata_folder)\n",
    "\n",
    "    def process(self) -> None:\n",
    "        self.save(self.process_set('train'), self.processed_paths[0])\n",
    "        self.save(self.process_set('test'), self.processed_paths[1])\n",
    "\n",
    "    def process_set(self, dataset: str) -> List[Data]:\n",
    "        categories = ['chair']\n",
    "\n",
    "        data_list = []\n",
    "        for target, category in enumerate(categories):\n",
    "            folder = osp.join(self.raw_dir, category, dataset)\n",
    "            paths = glob.glob(f'{folder}/{category}_*.off')\n",
    "            for path in paths:\n",
    "                data = read_off(path)\n",
    "                data.y = torch.tensor([target])\n",
    "                data_list.append(data)\n",
    "\n",
    "        if self.pre_filter is not None:\n",
    "            data_list = [d for d in data_list if self.pre_filter(d)]\n",
    "\n",
    "        if self.pre_transform is not None:\n",
    "            data_list = [self.pre_transform(d) for d in data_list]\n",
    "\n",
    "        return data_list\n",
    "\n",
    "    def __repr__(self) -> str:\n",
    "        return f'{self.__class__.__name__}{self.name}({len(self)})'\n"
   ]
  },
  {
   "cell_type": "code",
   "execution_count": 8,
   "metadata": {},
   "outputs": [],
   "source": [
    "from torch_geometric.transforms import Compose, SamplePoints\n",
    "import deltaconv.transforms as T2\n",
    "\n",
    "pre_transform = Compose((\n",
    "    T2.NormalizeScale(),\n",
    "    SamplePoints(1024, include_normals=True),\n",
    "    T2.GeodesicFPS(1024)\n",
    "))\n",
    "\n",
    "train_ds = MNLoader('modelnet', '10', True, pre_transform=pre_transform)\n",
    "train_loader = torch_geometric.loader.DataLoader(train_ds, batch_size=batch_size, shuffle=True)\n",
    "\n",
    "test_ds = MNLoader('modelnet', '10', False, pre_transform=pre_transform)\n",
    "test_loader = torch_geometric.loader.DataLoader(test_ds, batch_size=batch_size, shuffle=False)"
   ]
  },
  {
   "cell_type": "code",
   "execution_count": null,
   "metadata": {},
   "outputs": [
    {
     "name": "stdout",
     "output_type": "stream",
     "text": [
      "930816\n"
     ]
    }
   ],
   "source": [
    "net = model.PointCloudVAE(point_size,latent_size)\n",
    "\n",
    "\n",
    "\n",
    "print(sum(p.numel() for p in net.parameters()))"
   ]
  },
  {
   "cell_type": "code",
   "execution_count": null,
   "metadata": {},
   "outputs": [
    {
     "name": "stdout",
     "output_type": "stream",
     "text": [
      "477504\n",
      "3040704\n"
     ]
    }
   ],
   "source": [
    "net = DeltaNetAE( \n",
    "    in_channels = 3, \n",
    "    point_size = point_size,\n",
    "    latent_size=latent_size,\n",
    "    conv_channels = [64, 128, 256], \n",
    "    mlp_depth = 2, \n",
    "    num_neighbors = 10, \n",
    "    grad_regularizer = .001, \n",
    "    grad_kernel_width = 1\n",
    ")\n",
    "print(sum(p.numel() for p in net.parameters()))"
   ]
  },
  {
   "cell_type": "code",
   "execution_count": null,
   "metadata": {},
   "outputs": [],
   "source": [
    "if(use_GPU):\n",
    "    device = torch.device(\"cuda:0\")\n",
    "    if torch.cuda.device_count() > 1: # if there are multiple GPUs use all\n",
    "        net = torch.nn.DataParallel(net)\n",
    "else:\n",
    "    device = torch.device(\"cpu\")\n",
    "\n",
    "net = net.to(device)"
   ]
  },
  {
   "cell_type": "code",
   "execution_count": 10,
   "metadata": {},
   "outputs": [],
   "source": [
    "def chamfer_distance(A, B):\n",
    "    \"\"\"\n",
    "    Computes the chamfer distance between two sets of points A and B.\n",
    "    \"\"\"\n",
    "    tree = torch.cdist(A, B)\n",
    "    dist_A = torch.min(tree, dim=1)[0]\n",
    "    dist_B = torch.min(tree, dim=2)[0]\n",
    "    return torch.mean(torch.mean(dist_A, dim=1) + torch.mean(dist_B, dim=1))"
   ]
  },
  {
   "cell_type": "code",
   "execution_count": 11,
   "metadata": {},
   "outputs": [],
   "source": [
    "optimizer = optim.Adam(net.parameters(), lr=0.0005)"
   ]
  },
  {
   "cell_type": "code",
   "execution_count": 12,
   "metadata": {},
   "outputs": [],
   "source": [
    "def train_epoch():\n",
    "    epoch_loss = 0\n",
    "    for i, data in enumerate(train_loader):\n",
    "        optimizer.zero_grad()        \n",
    "        data = data.to(device)\n",
    "        output = net(data) # transpose data for NumberxChannelxSize format\n",
    "        loss = chamfer_distance(data.pos.view(output.shape[0], -1, 3), output) \n",
    "        loss.backward()\n",
    "        optimizer.step()\n",
    "        \n",
    "        epoch_loss += loss.item()\n",
    "        \n",
    "    return epoch_loss/i"
   ]
  },
  {
   "cell_type": "code",
   "execution_count": 13,
   "metadata": {},
   "outputs": [],
   "source": [
    "def test_batch(data): # test with a batch of inputs\n",
    "    with torch.no_grad():\n",
    "        data = data.to(device)\n",
    "        output = net(data)\n",
    "        loss = chamfer_distance(data.pos.view(output.shape[0], -1, 3), output)\n",
    "        \n",
    "    return loss.item(), output.cpu()"
   ]
  },
  {
   "cell_type": "code",
   "execution_count": 14,
   "metadata": {},
   "outputs": [],
   "source": [
    "def test_epoch(): # test with all test set\n",
    "    with torch.no_grad():\n",
    "        epoch_loss = 0\n",
    "        for i, data in enumerate(test_loader):\n",
    "            loss, output = test_batch(data)\n",
    "            epoch_loss += loss\n",
    "\n",
    "    return epoch_loss/i"
   ]
  },
  {
   "cell_type": "code",
   "execution_count": 15,
   "metadata": {},
   "outputs": [],
   "source": [
    "if(save_results):\n",
    "    utils.clear_folder(output_folder)"
   ]
  },
  {
   "cell_type": "code",
   "execution_count": null,
   "metadata": {},
   "outputs": [
    {
     "name": "stderr",
     "output_type": "stream",
     "text": [
      " 92%|█████████▏| 459/500 [04:37<00:25,  1.62it/s]"
     ]
    }
   ],
   "source": [
    "train_loss_list = []  \n",
    "test_loss_list = []  \n",
    "\n",
    "for i in tqdm.tqdm(range(500)): # train for 1000 epochs\n",
    "    startTime = time.time()\n",
    "    \n",
    "    train_loss = train_epoch() #train one epoch, get the average loss\n",
    "    train_loss_list.append(train_loss)\n",
    "    \n",
    "    test_loss = test_epoch() # test with test set\n",
    "    test_loss_list.append(test_loss)\n",
    "    \n",
    "    epoch_time = time.time() - startTime\n",
    "    \n",
    "    writeString = \"epoch \" + str(i) + \" train loss : \" + str(train_loss) + \" test loss : \" + str(test_loss) + \" epoch time : \" + str(epoch_time) + \"\\n\"\n",
    "    \n",
    "    # plot train/test loss graph\n",
    "    plt.plot(train_loss_list, label=\"Train\")\n",
    "    plt.plot(test_loss_list, label=\"Test\")\n",
    "    plt.legend()\n",
    "\n",
    "    if(save_results): # save all outputs to the save folder\n",
    "\n",
    "        # write the text output to file\n",
    "        with open(output_folder + \"prints.txt\",\"a\") as file: \n",
    "            file.write(writeString)\n",
    "\n",
    "        # update the loss graph\n",
    "        plt.savefig(output_folder + \"loss.png\")\n",
    "        plt.close()\n",
    "\n",
    "        # save input/output as image file\n",
    "        if(i%50==0):\n",
    "            test_samples = next(iter(test_loader))\n",
    "            loss , test_output = test_batch(test_samples)\n",
    "            utils.plotPCbatch(test_samples.pos.view(test_output.shape[0], -1, 3).cpu(), test_output, show=False, save=True, name = (output_folder  + \"epoch_\" + str(i)))\n",
    "\n",
    "    else : # display all outputs\n",
    "        \n",
    "        test_samples = next(iter(test_loader))\n",
    "        loss , test_output = test_batch(test_samples)\n",
    "        utils.plotPCbatch(test_samples,test_output)\n",
    "\n",
    "        print(writeString)\n",
    "\n",
    "        plt.show()\n",
    "\n",
    "        \n"
   ]
  },
  {
   "cell_type": "markdown",
   "metadata": {},
   "source": []
  },
  {
   "cell_type": "code",
   "execution_count": null,
   "metadata": {},
   "outputs": [],
   "source": []
  }
 ],
 "metadata": {
  "kernelspec": {
   "display_name": "deltaconv",
   "language": "python",
   "name": "python3"
  },
  "language_info": {
   "codemirror_mode": {
    "name": "ipython",
    "version": 3
   },
   "file_extension": ".py",
   "mimetype": "text/x-python",
   "name": "python",
   "nbconvert_exporter": "python",
   "pygments_lexer": "ipython3",
   "version": "3.9.20"
  }
 },
 "nbformat": 4,
 "nbformat_minor": 4
}
